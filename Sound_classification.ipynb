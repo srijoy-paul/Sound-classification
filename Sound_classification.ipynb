{
  "cells": [
    {
      "cell_type": "markdown",
      "metadata": {
        "id": "view-in-github",
        "colab_type": "text"
      },
      "source": [
        "<a href=\"https://colab.research.google.com/github/srijoy-paul/Sound-classification/blob/main/Sound_classification.ipynb\" target=\"_parent\"><img src=\"https://colab.research.google.com/assets/colab-badge.svg\" alt=\"Open In Colab\"/></a>"
      ]
    },
    {
      "cell_type": "markdown",
      "metadata": {
        "id": "ulPxmc17Kon5"
      },
      "source": [
        "Connecting Google Drive"
      ]
    },
    {
      "cell_type": "code",
      "execution_count": null,
      "metadata": {
        "colab": {
          "base_uri": "https://localhost:8080/"
        },
        "id": "tUkmZbqf9XNv",
        "outputId": "0755e241-5220-4046-bdae-99837df2c8d7"
      },
      "outputs": [
        {
          "output_type": "stream",
          "name": "stdout",
          "text": [
            "Mounted at /content/drive\n"
          ]
        }
      ],
      "source": [
        "from google.colab import drive\n",
        "drive.mount('/content/drive')"
      ]
    },
    {
      "cell_type": "markdown",
      "metadata": {
        "id": "vq0WcZYFKr6o"
      },
      "source": [
        "Importing Packages"
      ]
    },
    {
      "cell_type": "code",
      "execution_count": null,
      "metadata": {
        "id": "T6hGez1KK1wX"
      },
      "outputs": [],
      "source": [
        "import numpy as np\n",
        "import cv2\n",
        "import PIL.Image as Image\n",
        "import os\n",
        "import matplotlib.pylab as plt\n",
        "import tensorflow as tf\n",
        "#import tensorflow_hub as hub\n",
        "from tensorflow import keras\n",
        "from tensorflow.keras import layers\n",
        "from tensorflow.keras.models import Sequential"
      ]
    },
    {
      "cell_type": "code",
      "execution_count": null,
      "metadata": {
        "id": "Ib0az54NK5KS"
      },
      "outputs": [],
      "source": [
        "from keras.models import Model\n",
        "from tensorflow.keras.optimizers import Adam\n",
        "from tensorflow.keras.applications.densenet import DenseNet121, preprocess_input\n",
        "from keras.preprocessing.image import ImageDataGenerator\n",
        "from keras.callbacks import ModelCheckpoint, EarlyStopping\n",
        "from keras.layers import Dense, Dropout, Flatten\n",
        "from pathlib import Path\n",
        "import numpy as np"
      ]
    },
    {
      "cell_type": "markdown",
      "metadata": {
        "id": "XGU0BUO1K6EH"
      },
      "source": [
        "setting Bactch size and Image Size"
      ]
    },
    {
      "cell_type": "code",
      "execution_count": null,
      "metadata": {
        "id": "2th26VMKK-DM"
      },
      "outputs": [],
      "source": [
        "BATCH_SIZE = 16\n",
        "IMG_SIZE = (224, 224)"
      ]
    },
    {
      "cell_type": "markdown",
      "metadata": {
        "id": "21xPn7bQLEZF"
      },
      "source": [
        "Importing Training and Testing Data"
      ]
    },
    {
      "cell_type": "code",
      "execution_count": null,
      "metadata": {
        "colab": {
          "base_uri": "https://localhost:8080/"
        },
        "id": "YFER8eq2LHbU",
        "outputId": "eec63597-0e45-41b9-e99c-785534e0f6ae"
      },
      "outputs": [
        {
          "output_type": "stream",
          "name": "stdout",
          "text": [
            "Found 2315 files belonging to 10 classes.\n"
          ]
        }
      ],
      "source": [
        "total_dataset = tf.keras.utils.image_dataset_from_directory('/content/drive/MyDrive/Soundata WAV',\n",
        "                                                            shuffle=True,\n",
        "                                                            seed=1,\n",
        "                                                            batch_size=BATCH_SIZE,\n",
        "                                                            image_size=IMG_SIZE)"
      ]
    },
    {
      "cell_type": "markdown",
      "metadata": {
        "id": "08AWWvMdLql2"
      },
      "source": [
        "Creating Validation Data from Training Data"
      ]
    },
    {
      "cell_type": "code",
      "execution_count": null,
      "metadata": {
        "colab": {
          "base_uri": "https://localhost:8080/"
        },
        "id": "W6BJlaATLtW5",
        "outputId": "26f5d06b-d43e-46c5-a616-d212608d8d39"
      },
      "outputs": [
        {
          "output_type": "stream",
          "name": "stdout",
          "text": [
            "tf.Tensor(145, shape=(), dtype=int64)\n"
          ]
        }
      ],
      "source": [
        "total_batches = tf.data.experimental.cardinality(total_dataset)\n",
        "print(total_batches)"
      ]
    },
    {
      "cell_type": "code",
      "source": [
        "validation_dataset = total_dataset.take(total_batches // 5)\n",
        "train_dataset = total_dataset.skip(total_batches // 5)"
      ],
      "metadata": {
        "id": "Hc62siZahx--"
      },
      "execution_count": null,
      "outputs": []
    },
    {
      "cell_type": "code",
      "execution_count": null,
      "metadata": {
        "id": "2-lIFL3-Vtio"
      },
      "outputs": [],
      "source": [
        "test_dataset = train_dataset.take(total_batches // 5)\n",
        "train_dataset = train_dataset.skip(total_batches // 5)"
      ]
    },
    {
      "cell_type": "markdown",
      "metadata": {
        "id": "V1QKvxXRL4SC"
      },
      "source": [
        "Showing train, validation, and testing batches"
      ]
    },
    {
      "cell_type": "code",
      "execution_count": null,
      "metadata": {
        "colab": {
          "base_uri": "https://localhost:8080/"
        },
        "id": "u_TruMtLL7kl",
        "outputId": "748e8fd1-e51c-48f7-d83d-fa963bf5b7b9"
      },
      "outputs": [
        {
          "output_type": "stream",
          "name": "stdout",
          "text": [
            "Number of train batches: 87\n",
            "Number of validation batches: 29\n",
            "Number of test batches: 29\n"
          ]
        }
      ],
      "source": [
        "print('Number of train batches: %d' % tf.data.experimental.cardinality(train_dataset))\n",
        "print('Number of validation batches: %d' % tf.data.experimental.cardinality(validation_dataset))\n",
        "print('Number of test batches: %d' % tf.data.experimental.cardinality(test_dataset))"
      ]
    },
    {
      "cell_type": "markdown",
      "metadata": {
        "id": "QBNxMOPrMENq"
      },
      "source": [
        "Prefetching Dataset"
      ]
    },
    {
      "cell_type": "code",
      "execution_count": null,
      "metadata": {
        "id": "7jNS_jPoMI1E"
      },
      "outputs": [],
      "source": [
        "AUTOTUNE = tf.data.AUTOTUNE\n",
        "\n",
        "train_dataset = train_dataset.prefetch(buffer_size=AUTOTUNE)\n",
        "validation_dataset = validation_dataset.prefetch(buffer_size=AUTOTUNE)\n",
        "test_dataset = test_dataset.prefetch(buffer_size=AUTOTUNE)"
      ]
    },
    {
      "cell_type": "markdown",
      "metadata": {
        "id": "jziGOOUhMJ7G"
      },
      "source": [
        "Data Augmentation"
      ]
    },
    {
      "cell_type": "code",
      "execution_count": null,
      "metadata": {
        "id": "BdAUv_QzMLpT"
      },
      "outputs": [],
      "source": [
        "data_augmentation = tf.keras.Sequential([\n",
        "  tf.keras.layers.RandomFlip('horizontal'),\n",
        "  tf.keras.layers.RandomZoom(0.2),\n",
        "  tf.keras.layers.experimental.preprocessing.RandomFlip(\n",
        "      mode='horizontal'\n",
        "      ),\n",
        "  tf.keras.layers.experimental.preprocessing.RandomContrast(0.3),\n",
        "  tf.keras.layers.RandomRotation(0.2),\n",
        "])"
      ]
    },
    {
      "cell_type": "markdown",
      "metadata": {
        "id": "MtXPIuCiMQud"
      },
      "source": [
        "Pre-processing the Input"
      ]
    },
    {
      "cell_type": "code",
      "execution_count": null,
      "metadata": {
        "id": "ZQrtAYq7MQ6a"
      },
      "outputs": [],
      "source": [
        "preprocess_input = tf.keras.applications.densenet.preprocess_input\n",
        "rescale = tf.keras.layers.Rescaling(1./127.5, offset=-1)"
      ]
    },
    {
      "cell_type": "markdown",
      "metadata": {
        "id": "i5cnE8TLMW_x"
      },
      "source": [
        "Creating a Base Model"
      ]
    },
    {
      "cell_type": "code",
      "execution_count": null,
      "metadata": {
        "id": "UJzPCrUVMZnF",
        "colab": {
          "base_uri": "https://localhost:8080/"
        },
        "outputId": "5c39549d-37cb-4d20-d498-6924618d7d62"
      },
      "outputs": [
        {
          "output_type": "stream",
          "name": "stdout",
          "text": [
            "Downloading data from https://storage.googleapis.com/tensorflow/keras-applications/densenet/densenet121_weights_tf_dim_ordering_tf_kernels_notop.h5\n",
            "29089792/29084464 [==============================] - 0s 0us/step\n",
            "29097984/29084464 [==============================] - 0s 0us/step\n"
          ]
        }
      ],
      "source": [
        "# Create the base model from the pre-trained model MobileNet V2\n",
        "IMG_SHAPE = IMG_SIZE + (3,)\n",
        "base_model = DenseNet121(input_shape=IMG_SHAPE,\n",
        "                   include_top=False,\n",
        "                   weights='imagenet')"
      ]
    },
    {
      "cell_type": "markdown",
      "metadata": {
        "id": "4KJ_9iy0MfTj"
      },
      "source": [
        "Creating Batches (image and label)"
      ]
    },
    {
      "cell_type": "code",
      "execution_count": null,
      "metadata": {
        "id": "oDS8X09SMjXX",
        "colab": {
          "base_uri": "https://localhost:8080/"
        },
        "outputId": "6fa0f56e-9205-438a-99bb-3ec892ad0236"
      },
      "outputs": [
        {
          "output_type": "stream",
          "name": "stdout",
          "text": [
            "(16, 7, 7, 1024)\n"
          ]
        }
      ],
      "source": [
        "image_batch, label_batch = next(iter(train_dataset))\n",
        "feature_batch = base_model(image_batch)\n",
        "print(feature_batch.shape)"
      ]
    },
    {
      "cell_type": "markdown",
      "metadata": {
        "id": "ZCYZ4gU0MlXD"
      },
      "source": [
        "Make base Model Non-trainable"
      ]
    },
    {
      "cell_type": "code",
      "execution_count": null,
      "metadata": {
        "id": "6nfDs75nMlgO"
      },
      "outputs": [],
      "source": [
        "base_model.trainable = False"
      ]
    },
    {
      "cell_type": "markdown",
      "metadata": {
        "id": "lFQn33hIMmTA"
      },
      "source": [
        "Creatign  global average layer and Finding features"
      ]
    },
    {
      "cell_type": "code",
      "execution_count": null,
      "metadata": {
        "id": "JME0JApoMmaw",
        "colab": {
          "base_uri": "https://localhost:8080/"
        },
        "outputId": "bcac8dc9-a8a3-45df-c343-add4df6d06f3"
      },
      "outputs": [
        {
          "output_type": "stream",
          "name": "stdout",
          "text": [
            "(16, 1024)\n"
          ]
        }
      ],
      "source": [
        "global_average_layer = tf.keras.layers.GlobalAveragePooling2D()\n",
        "feature_batch_average = global_average_layer(feature_batch)\n",
        "print(feature_batch_average.shape)"
      ]
    },
    {
      "cell_type": "markdown",
      "metadata": {
        "id": "FfLoGG5eMoHc"
      },
      "source": [
        "Creating Prediction Layer"
      ]
    },
    {
      "cell_type": "code",
      "execution_count": null,
      "metadata": {
        "id": "nQqhELzrMoPF",
        "colab": {
          "base_uri": "https://localhost:8080/"
        },
        "outputId": "11746b68-33ac-4369-b12a-417b496bde93"
      },
      "outputs": [
        {
          "output_type": "stream",
          "name": "stdout",
          "text": [
            "(16, 10)\n"
          ]
        }
      ],
      "source": [
        "prediction_layer = tf.keras.layers.Dense(10,activation=\"softmax\")\n",
        "prediction_batch = prediction_layer(feature_batch_average)\n",
        "print(prediction_batch.shape)"
      ]
    },
    {
      "cell_type": "markdown",
      "metadata": {
        "id": "485TC67VMqb7"
      },
      "source": [
        "Creating Specific Layer According to the Problem"
      ]
    },
    {
      "cell_type": "code",
      "execution_count": null,
      "metadata": {
        "id": "hQC7bMXZMqif"
      },
      "outputs": [],
      "source": [
        "inputs = tf.keras.Input(shape=(224, 224, 3))\n",
        "x = data_augmentation(inputs)\n",
        "x = preprocess_input(x)\n",
        "x = base_model(x, training=False)\n",
        "x = global_average_layer(x)\n",
        "x = tf.keras.layers.Dropout(0.2)(x)\n",
        "outputs = prediction_layer(x)\n",
        "model = tf.keras.Model(inputs, outputs)"
      ]
    },
    {
      "cell_type": "markdown",
      "metadata": {
        "id": "g6S9mmtXMs3M"
      },
      "source": [
        "Getting Model Summary"
      ]
    },
    {
      "cell_type": "code",
      "execution_count": null,
      "metadata": {
        "colab": {
          "base_uri": "https://localhost:8080/"
        },
        "id": "OcPujKCLMtAd",
        "outputId": "c42eeedd-f94a-4c43-f49d-fe1846f98ab0"
      },
      "outputs": [
        {
          "output_type": "stream",
          "name": "stdout",
          "text": [
            "Model: \"model\"\n",
            "_________________________________________________________________\n",
            " Layer (type)                Output Shape              Param #   \n",
            "=================================================================\n",
            " input_2 (InputLayer)        [(None, 224, 224, 3)]     0         \n",
            "                                                                 \n",
            " sequential (Sequential)     (None, 224, 224, 3)       0         \n",
            "                                                                 \n",
            " tf.math.truediv (TFOpLambda  (None, 224, 224, 3)      0         \n",
            " )                                                               \n",
            "                                                                 \n",
            " tf.nn.bias_add (TFOpLambda)  (None, 224, 224, 3)      0         \n",
            "                                                                 \n",
            " tf.math.truediv_1 (TFOpLamb  (None, 224, 224, 3)      0         \n",
            " da)                                                             \n",
            "                                                                 \n",
            " densenet121 (Functional)    (None, 7, 7, 1024)        7037504   \n",
            "                                                                 \n",
            " global_average_pooling2d (G  (None, 1024)             0         \n",
            " lobalAveragePooling2D)                                          \n",
            "                                                                 \n",
            " dropout (Dropout)           (None, 1024)              0         \n",
            "                                                                 \n",
            " dense (Dense)               (None, 10)                10250     \n",
            "                                                                 \n",
            "=================================================================\n",
            "Total params: 7,047,754\n",
            "Trainable params: 10,250\n",
            "Non-trainable params: 7,037,504\n",
            "_________________________________________________________________\n"
          ]
        }
      ],
      "source": [
        "model.summary()"
      ]
    },
    {
      "cell_type": "markdown",
      "metadata": {
        "id": "vgJvwF4WMul8"
      },
      "source": [
        "Compiling the Problem"
      ]
    },
    {
      "cell_type": "code",
      "execution_count": null,
      "metadata": {
        "id": "PSs0QZ6mMutQ"
      },
      "outputs": [],
      "source": [
        "base_learning_rate = 0.0001\n",
        "model.compile(\n",
        "    optimizer=tf.keras.optimizers.Adam(learning_rate=base_learning_rate),\n",
        "    loss=tf.keras.losses.sparse_categorical_crossentropy,\n",
        "    metrics=[\"acc\"],\n",
        ")"
      ]
    },
    {
      "cell_type": "code",
      "execution_count": null,
      "metadata": {
        "id": "e5c9P34wMys0"
      },
      "outputs": [],
      "source": [
        "initial_epochs = 100\n",
        "\n",
        "#loss0, accuracy0 = model.evaluate(validation_dataset)"
      ]
    },
    {
      "cell_type": "markdown",
      "metadata": {
        "id": "iyVXxXKpM1eI"
      },
      "source": [
        "Running the Model"
      ]
    },
    {
      "cell_type": "code",
      "execution_count": null,
      "metadata": {
        "colab": {
          "base_uri": "https://localhost:8080/"
        },
        "id": "fugFo1-7M1lP",
        "outputId": "0516ece8-ea82-4622-f0fb-ca9281601764"
      },
      "outputs": [
        {
          "output_type": "stream",
          "name": "stdout",
          "text": [
            "Epoch 1/100\n",
            "87/87 [==============================] - 117s 1s/step - loss: 2.7348 - acc: 0.1074 - val_loss: 2.5636 - val_acc: 0.0668\n",
            "Epoch 2/100\n",
            "87/87 [==============================] - 9s 85ms/step - loss: 2.5285 - acc: 0.1081 - val_loss: 2.5249 - val_acc: 0.0668\n",
            "Epoch 3/100\n",
            "87/87 [==============================] - 9s 85ms/step - loss: 2.5241 - acc: 0.0981 - val_loss: 2.5084 - val_acc: 0.0776\n",
            "Epoch 4/100\n",
            "87/87 [==============================] - 9s 85ms/step - loss: 2.4821 - acc: 0.0901 - val_loss: 2.4813 - val_acc: 0.0970\n",
            "Epoch 5/100\n",
            "87/87 [==============================] - 9s 86ms/step - loss: 2.4675 - acc: 0.1154 - val_loss: 2.4636 - val_acc: 0.0819\n",
            "Epoch 6/100\n",
            "87/87 [==============================] - 9s 86ms/step - loss: 2.4588 - acc: 0.1103 - val_loss: 2.4410 - val_acc: 0.0862\n",
            "Epoch 7/100\n",
            "87/87 [==============================] - 9s 85ms/step - loss: 2.4642 - acc: 0.1132 - val_loss: 2.4145 - val_acc: 0.0927\n",
            "Epoch 8/100\n",
            "87/87 [==============================] - 10s 87ms/step - loss: 2.4464 - acc: 0.1110 - val_loss: 2.4262 - val_acc: 0.0819\n",
            "Epoch 9/100\n",
            "87/87 [==============================] - 10s 87ms/step - loss: 2.4290 - acc: 0.1182 - val_loss: 2.3990 - val_acc: 0.0905\n",
            "Epoch 10/100\n",
            "87/87 [==============================] - 10s 87ms/step - loss: 2.4009 - acc: 0.1305 - val_loss: 2.4086 - val_acc: 0.0927\n",
            "Epoch 11/100\n",
            "87/87 [==============================] - 10s 87ms/step - loss: 2.4142 - acc: 0.1276 - val_loss: 2.3686 - val_acc: 0.0970\n",
            "Epoch 12/100\n",
            "87/87 [==============================] - 10s 87ms/step - loss: 2.4019 - acc: 0.1197 - val_loss: 2.3593 - val_acc: 0.1099\n",
            "Epoch 13/100\n",
            "87/87 [==============================] - 10s 92ms/step - loss: 2.3821 - acc: 0.1269 - val_loss: 2.3391 - val_acc: 0.1121\n",
            "Epoch 14/100\n",
            "87/87 [==============================] - 10s 87ms/step - loss: 2.3973 - acc: 0.1182 - val_loss: 2.3451 - val_acc: 0.0970\n",
            "Epoch 15/100\n",
            "87/87 [==============================] - 10s 88ms/step - loss: 2.3579 - acc: 0.1327 - val_loss: 2.3337 - val_acc: 0.1099\n",
            "Epoch 16/100\n",
            "87/87 [==============================] - 10s 87ms/step - loss: 2.3560 - acc: 0.1435 - val_loss: 2.3369 - val_acc: 0.1034\n",
            "Epoch 17/100\n",
            "87/87 [==============================] - 10s 87ms/step - loss: 2.3869 - acc: 0.1132 - val_loss: 2.3148 - val_acc: 0.1142\n",
            "Epoch 18/100\n",
            "87/87 [==============================] - 10s 87ms/step - loss: 2.3700 - acc: 0.1406 - val_loss: 2.3056 - val_acc: 0.1272\n",
            "Epoch 19/100\n",
            "87/87 [==============================] - 10s 87ms/step - loss: 2.3204 - acc: 0.1384 - val_loss: 2.3159 - val_acc: 0.1142\n",
            "Epoch 20/100\n",
            "87/87 [==============================] - 10s 87ms/step - loss: 2.3388 - acc: 0.1399 - val_loss: 2.3015 - val_acc: 0.1185\n",
            "Epoch 21/100\n",
            "87/87 [==============================] - 10s 87ms/step - loss: 2.3286 - acc: 0.1478 - val_loss: 2.3005 - val_acc: 0.1272\n",
            "Epoch 22/100\n",
            "87/87 [==============================] - 9s 86ms/step - loss: 2.3470 - acc: 0.1334 - val_loss: 2.2866 - val_acc: 0.1422\n",
            "Epoch 23/100\n",
            "87/87 [==============================] - 10s 87ms/step - loss: 2.2871 - acc: 0.1658 - val_loss: 2.2861 - val_acc: 0.1422\n",
            "Epoch 24/100\n",
            "87/87 [==============================] - 10s 87ms/step - loss: 2.3146 - acc: 0.1550 - val_loss: 2.2775 - val_acc: 0.1336\n",
            "Epoch 25/100\n",
            "87/87 [==============================] - 10s 86ms/step - loss: 2.2613 - acc: 0.1651 - val_loss: 2.2763 - val_acc: 0.1207\n",
            "Epoch 26/100\n",
            "87/87 [==============================] - 10s 86ms/step - loss: 2.2836 - acc: 0.1673 - val_loss: 2.2689 - val_acc: 0.1315\n",
            "Epoch 27/100\n",
            "87/87 [==============================] - 10s 88ms/step - loss: 2.2775 - acc: 0.1774 - val_loss: 2.2676 - val_acc: 0.1358\n",
            "Epoch 28/100\n",
            "87/87 [==============================] - 10s 87ms/step - loss: 2.2693 - acc: 0.1615 - val_loss: 2.2363 - val_acc: 0.1444\n",
            "Epoch 29/100\n",
            "87/87 [==============================] - 10s 86ms/step - loss: 2.2721 - acc: 0.1665 - val_loss: 2.2458 - val_acc: 0.1422\n",
            "Epoch 30/100\n",
            "87/87 [==============================] - 9s 86ms/step - loss: 2.2492 - acc: 0.1593 - val_loss: 2.2291 - val_acc: 0.1638\n",
            "Epoch 31/100\n",
            "87/87 [==============================] - 10s 87ms/step - loss: 2.2438 - acc: 0.1932 - val_loss: 2.2225 - val_acc: 0.1573\n",
            "Epoch 32/100\n",
            "87/87 [==============================] - 10s 87ms/step - loss: 2.2374 - acc: 0.1730 - val_loss: 2.2370 - val_acc: 0.1595\n",
            "Epoch 33/100\n",
            "87/87 [==============================] - 10s 87ms/step - loss: 2.2517 - acc: 0.1694 - val_loss: 2.2124 - val_acc: 0.1789\n",
            "Epoch 34/100\n",
            "87/87 [==============================] - 10s 87ms/step - loss: 2.2252 - acc: 0.1824 - val_loss: 2.2198 - val_acc: 0.1703\n",
            "Epoch 35/100\n",
            "87/87 [==============================] - 10s 87ms/step - loss: 2.2224 - acc: 0.1738 - val_loss: 2.1984 - val_acc: 0.1703\n",
            "Epoch 36/100\n",
            "87/87 [==============================] - 10s 87ms/step - loss: 2.2082 - acc: 0.1875 - val_loss: 2.2177 - val_acc: 0.1595\n",
            "Epoch 37/100\n",
            "87/87 [==============================] - 10s 86ms/step - loss: 2.2329 - acc: 0.1853 - val_loss: 2.2191 - val_acc: 0.1552\n",
            "Epoch 38/100\n",
            "87/87 [==============================] - 10s 87ms/step - loss: 2.2090 - acc: 0.1889 - val_loss: 2.1967 - val_acc: 0.1767\n",
            "Epoch 39/100\n",
            "87/87 [==============================] - 10s 87ms/step - loss: 2.2302 - acc: 0.1911 - val_loss: 2.2085 - val_acc: 0.1573\n",
            "Epoch 40/100\n",
            "87/87 [==============================] - 10s 87ms/step - loss: 2.2238 - acc: 0.1738 - val_loss: 2.1885 - val_acc: 0.1552\n",
            "Epoch 41/100\n",
            "87/87 [==============================] - 10s 95ms/step - loss: 2.2182 - acc: 0.1932 - val_loss: 2.1889 - val_acc: 0.1573\n",
            "Epoch 42/100\n",
            "87/87 [==============================] - 10s 88ms/step - loss: 2.1848 - acc: 0.2012 - val_loss: 2.1727 - val_acc: 0.1724\n",
            "Epoch 43/100\n",
            "87/87 [==============================] - 10s 97ms/step - loss: 2.1898 - acc: 0.2141 - val_loss: 2.1845 - val_acc: 0.1616\n",
            "Epoch 44/100\n",
            "87/87 [==============================] - 10s 88ms/step - loss: 2.1787 - acc: 0.2048 - val_loss: 2.1743 - val_acc: 0.1595\n",
            "Epoch 45/100\n",
            "87/87 [==============================] - 10s 87ms/step - loss: 2.1753 - acc: 0.2055 - val_loss: 2.1657 - val_acc: 0.1875\n",
            "Epoch 46/100\n",
            "87/87 [==============================] - 10s 87ms/step - loss: 2.1677 - acc: 0.2026 - val_loss: 2.1728 - val_acc: 0.1659\n",
            "Epoch 47/100\n",
            "87/87 [==============================] - 10s 87ms/step - loss: 2.2027 - acc: 0.1983 - val_loss: 2.1604 - val_acc: 0.1832\n",
            "Epoch 48/100\n",
            "87/87 [==============================] - 10s 86ms/step - loss: 2.2116 - acc: 0.2033 - val_loss: 2.1766 - val_acc: 0.1659\n",
            "Epoch 49/100\n",
            "87/87 [==============================] - 10s 87ms/step - loss: 2.1710 - acc: 0.2105 - val_loss: 2.1633 - val_acc: 0.1789\n",
            "Epoch 50/100\n",
            "87/87 [==============================] - 10s 87ms/step - loss: 2.1538 - acc: 0.2264 - val_loss: 2.1364 - val_acc: 0.1983\n",
            "Epoch 51/100\n",
            "87/87 [==============================] - 10s 87ms/step - loss: 2.1538 - acc: 0.2134 - val_loss: 2.1513 - val_acc: 0.2004\n",
            "Epoch 52/100\n",
            "87/87 [==============================] - 10s 87ms/step - loss: 2.1759 - acc: 0.2105 - val_loss: 2.1549 - val_acc: 0.1875\n",
            "Epoch 53/100\n",
            "87/87 [==============================] - 10s 87ms/step - loss: 2.1765 - acc: 0.2048 - val_loss: 2.1255 - val_acc: 0.2004\n",
            "Epoch 54/100\n",
            "87/87 [==============================] - 10s 87ms/step - loss: 2.1656 - acc: 0.2177 - val_loss: 2.1437 - val_acc: 0.1897\n",
            "Epoch 55/100\n",
            "87/87 [==============================] - 10s 87ms/step - loss: 2.1665 - acc: 0.2098 - val_loss: 2.1287 - val_acc: 0.2112\n",
            "Epoch 56/100\n",
            "87/87 [==============================] - 10s 86ms/step - loss: 2.1585 - acc: 0.2163 - val_loss: 2.1399 - val_acc: 0.1918\n",
            "Epoch 57/100\n",
            "87/87 [==============================] - 9s 86ms/step - loss: 2.1526 - acc: 0.2242 - val_loss: 2.1365 - val_acc: 0.2026\n",
            "Epoch 58/100\n",
            "87/87 [==============================] - 10s 87ms/step - loss: 2.1163 - acc: 0.2386 - val_loss: 2.1329 - val_acc: 0.2026\n",
            "Epoch 59/100\n",
            "87/87 [==============================] - 10s 87ms/step - loss: 2.1621 - acc: 0.2156 - val_loss: 2.1311 - val_acc: 0.2134\n",
            "Epoch 60/100\n",
            "87/87 [==============================] - 10s 87ms/step - loss: 2.1227 - acc: 0.2307 - val_loss: 2.1293 - val_acc: 0.2198\n",
            "Epoch 61/100\n",
            "87/87 [==============================] - 10s 88ms/step - loss: 2.1530 - acc: 0.2156 - val_loss: 2.1406 - val_acc: 0.2112\n",
            "Epoch 62/100\n",
            "87/87 [==============================] - 10s 87ms/step - loss: 2.1177 - acc: 0.2329 - val_loss: 2.1091 - val_acc: 0.2263\n",
            "Epoch 63/100\n",
            "87/87 [==============================] - 10s 87ms/step - loss: 2.1481 - acc: 0.2019 - val_loss: 2.1142 - val_acc: 0.2220\n",
            "Epoch 64/100\n",
            "87/87 [==============================] - 10s 87ms/step - loss: 2.1166 - acc: 0.2473 - val_loss: 2.1245 - val_acc: 0.2069\n",
            "Epoch 65/100\n",
            "87/87 [==============================] - 10s 86ms/step - loss: 2.1303 - acc: 0.2286 - val_loss: 2.1190 - val_acc: 0.2112\n",
            "Epoch 66/100\n",
            "87/87 [==============================] - 10s 87ms/step - loss: 2.1367 - acc: 0.2170 - val_loss: 2.1119 - val_acc: 0.2198\n",
            "Epoch 67/100\n",
            "87/87 [==============================] - 10s 87ms/step - loss: 2.1130 - acc: 0.2228 - val_loss: 2.1068 - val_acc: 0.2241\n",
            "Epoch 68/100\n",
            "87/87 [==============================] - 10s 87ms/step - loss: 2.1299 - acc: 0.2278 - val_loss: 2.1053 - val_acc: 0.2177\n",
            "Epoch 69/100\n",
            "87/87 [==============================] - 10s 87ms/step - loss: 2.1111 - acc: 0.2408 - val_loss: 2.1208 - val_acc: 0.2155\n",
            "Epoch 70/100\n",
            "87/87 [==============================] - 10s 87ms/step - loss: 2.1210 - acc: 0.2350 - val_loss: 2.1165 - val_acc: 0.2198\n",
            "Epoch 71/100\n",
            "87/87 [==============================] - 10s 87ms/step - loss: 2.0997 - acc: 0.2242 - val_loss: 2.0966 - val_acc: 0.2371\n",
            "Epoch 72/100\n",
            "87/87 [==============================] - 9s 86ms/step - loss: 2.0916 - acc: 0.2516 - val_loss: 2.1096 - val_acc: 0.2220\n",
            "Epoch 73/100\n",
            "87/87 [==============================] - 10s 88ms/step - loss: 2.0723 - acc: 0.2523 - val_loss: 2.0986 - val_acc: 0.2220\n",
            "Epoch 74/100\n",
            "87/87 [==============================] - 10s 87ms/step - loss: 2.0913 - acc: 0.2206 - val_loss: 2.1021 - val_acc: 0.2306\n",
            "Epoch 75/100\n",
            "87/87 [==============================] - 10s 87ms/step - loss: 2.0885 - acc: 0.2415 - val_loss: 2.0885 - val_acc: 0.2263\n",
            "Epoch 76/100\n",
            "87/87 [==============================] - 10s 88ms/step - loss: 2.0953 - acc: 0.2451 - val_loss: 2.0994 - val_acc: 0.2284\n",
            "Epoch 77/100\n",
            "87/87 [==============================] - 10s 88ms/step - loss: 2.0848 - acc: 0.2336 - val_loss: 2.0935 - val_acc: 0.2284\n",
            "Epoch 78/100\n",
            "87/87 [==============================] - 10s 88ms/step - loss: 2.1105 - acc: 0.2343 - val_loss: 2.0954 - val_acc: 0.2155\n",
            "Epoch 79/100\n",
            "87/87 [==============================] - 10s 87ms/step - loss: 2.0916 - acc: 0.2394 - val_loss: 2.0951 - val_acc: 0.2284\n",
            "Epoch 80/100\n",
            "87/87 [==============================] - 10s 88ms/step - loss: 2.1223 - acc: 0.2365 - val_loss: 2.0685 - val_acc: 0.2392\n",
            "Epoch 81/100\n",
            "87/87 [==============================] - 10s 87ms/step - loss: 2.0772 - acc: 0.2559 - val_loss: 2.0814 - val_acc: 0.2306\n",
            "Epoch 82/100\n",
            "87/87 [==============================] - 10s 87ms/step - loss: 2.0820 - acc: 0.2408 - val_loss: 2.0649 - val_acc: 0.2306\n",
            "Epoch 83/100\n",
            "87/87 [==============================] - 10s 88ms/step - loss: 2.0744 - acc: 0.2668 - val_loss: 2.0773 - val_acc: 0.2457\n",
            "Epoch 84/100\n",
            "87/87 [==============================] - 10s 87ms/step - loss: 2.1034 - acc: 0.2379 - val_loss: 2.0805 - val_acc: 0.2371\n",
            "Epoch 85/100\n",
            "87/87 [==============================] - 10s 88ms/step - loss: 2.0759 - acc: 0.2588 - val_loss: 2.0668 - val_acc: 0.2457\n",
            "Epoch 86/100\n",
            "87/87 [==============================] - 10s 89ms/step - loss: 2.0736 - acc: 0.2538 - val_loss: 2.0792 - val_acc: 0.2263\n",
            "Epoch 87/100\n",
            "87/87 [==============================] - 10s 89ms/step - loss: 2.0741 - acc: 0.2610 - val_loss: 2.0650 - val_acc: 0.2435\n",
            "Epoch 88/100\n",
            "87/87 [==============================] - 10s 90ms/step - loss: 2.0698 - acc: 0.2559 - val_loss: 2.0493 - val_acc: 0.2392\n",
            "Epoch 89/100\n",
            "87/87 [==============================] - 10s 89ms/step - loss: 2.0806 - acc: 0.2610 - val_loss: 2.0713 - val_acc: 0.2306\n",
            "Epoch 90/100\n",
            "87/87 [==============================] - 10s 89ms/step - loss: 2.0847 - acc: 0.2365 - val_loss: 2.0754 - val_acc: 0.2328\n",
            "Epoch 91/100\n",
            "87/87 [==============================] - 10s 89ms/step - loss: 2.0771 - acc: 0.2603 - val_loss: 2.0626 - val_acc: 0.2263\n",
            "Epoch 92/100\n",
            "87/87 [==============================] - 10s 89ms/step - loss: 2.0448 - acc: 0.2653 - val_loss: 2.0587 - val_acc: 0.2414\n",
            "Epoch 93/100\n",
            "87/87 [==============================] - 10s 91ms/step - loss: 2.0635 - acc: 0.2523 - val_loss: 2.0645 - val_acc: 0.2435\n",
            "Epoch 94/100\n",
            "87/87 [==============================] - 10s 89ms/step - loss: 2.0502 - acc: 0.2603 - val_loss: 2.0662 - val_acc: 0.2565\n",
            "Epoch 95/100\n",
            "87/87 [==============================] - 10s 90ms/step - loss: 2.0575 - acc: 0.2740 - val_loss: 2.0582 - val_acc: 0.2565\n",
            "Epoch 96/100\n",
            "87/87 [==============================] - 10s 89ms/step - loss: 2.0477 - acc: 0.2660 - val_loss: 2.0530 - val_acc: 0.2543\n",
            "Epoch 97/100\n",
            "87/87 [==============================] - 10s 89ms/step - loss: 2.0665 - acc: 0.2408 - val_loss: 2.0510 - val_acc: 0.2457\n",
            "Epoch 98/100\n",
            "87/87 [==============================] - 10s 90ms/step - loss: 2.0429 - acc: 0.2653 - val_loss: 2.0391 - val_acc: 0.2306\n",
            "Epoch 99/100\n",
            "87/87 [==============================] - 10s 97ms/step - loss: 2.0471 - acc: 0.2711 - val_loss: 2.0520 - val_acc: 0.2263\n",
            "Epoch 100/100\n",
            "87/87 [==============================] - 10s 89ms/step - loss: 2.0463 - acc: 0.2531 - val_loss: 2.0462 - val_acc: 0.2328\n"
          ]
        }
      ],
      "source": [
        "history = model.fit(train_dataset,\n",
        "                    epochs=initial_epochs,\n",
        "                    validation_data=validation_dataset)"
      ]
    },
    {
      "cell_type": "markdown",
      "metadata": {
        "id": "eqbIm1-TM4Pm"
      },
      "source": [
        "Evaluate the Dataset"
      ]
    },
    {
      "cell_type": "code",
      "execution_count": null,
      "metadata": {
        "id": "EI44PdWRM4W6",
        "colab": {
          "base_uri": "https://localhost:8080/"
        },
        "outputId": "7f8a6ba1-605f-431b-8c80-a501d687c1fc"
      },
      "outputs": [
        {
          "output_type": "stream",
          "name": "stdout",
          "text": [
            "29/29 [==============================] - 3s 60ms/step - loss: 2.0208 - acc: 0.2759\n"
          ]
        },
        {
          "output_type": "execute_result",
          "data": {
            "text/plain": [
              "[2.020820140838623, 0.27586206793785095]"
            ]
          },
          "metadata": {},
          "execution_count": 23
        }
      ],
      "source": [
        "model.evaluate(test_dataset)"
      ]
    },
    {
      "cell_type": "markdown",
      "metadata": {
        "id": "0VpempF1NiSf"
      },
      "source": [
        "Save the Model in Drive"
      ]
    },
    {
      "cell_type": "code",
      "execution_count": null,
      "metadata": {
        "id": "-L4UYeH_NiZ0"
      },
      "outputs": [],
      "source": [
        "model.save('/content/drive/MyDrive/Result_Sound_Numeral/DenseNet121_sound.hdf5')"
      ]
    },
    {
      "cell_type": "markdown",
      "metadata": {
        "id": "or3YAktlNmcA"
      },
      "source": [
        "Reload the Model from Google Drive"
      ]
    },
    {
      "cell_type": "code",
      "execution_count": null,
      "metadata": {
        "id": "xAbdM7XdNmk7"
      },
      "outputs": [],
      "source": [
        "from tensorflow import keras\n",
        "model_load = keras.models.load_model('/content/drive/MyDrive/Result_Sound_Numeral/DenseNet121_sound.hdf5')"
      ]
    },
    {
      "cell_type": "markdown",
      "metadata": {
        "id": "7K3rSm2TNnNY"
      },
      "source": [
        "Evaluate the Model"
      ]
    },
    {
      "cell_type": "code",
      "execution_count": null,
      "metadata": {
        "id": "bIoeCA0VNnTu",
        "colab": {
          "base_uri": "https://localhost:8080/"
        },
        "outputId": "dd15e818-9a66-47e3-b83d-0081594194e4"
      },
      "outputs": [
        {
          "output_type": "stream",
          "name": "stdout",
          "text": [
            "28/28 [==============================] - 20s 289ms/step - loss: 2.1356 - acc: 0.2232\n"
          ]
        },
        {
          "output_type": "execute_result",
          "data": {
            "text/plain": [
              "[2.135566234588623, 0.2232142835855484]"
            ]
          },
          "metadata": {},
          "execution_count": 31
        }
      ],
      "source": [
        "model_load.evaluate(test_dataset)"
      ]
    },
    {
      "cell_type": "markdown",
      "metadata": {
        "id": "bHv_JhJ3Nphe"
      },
      "source": [
        "Accuracy and Loss Graph"
      ]
    },
    {
      "cell_type": "code",
      "execution_count": null,
      "metadata": {
        "id": "QqFOB3MFNpnm",
        "colab": {
          "base_uri": "https://localhost:8080/",
          "height": 513
        },
        "outputId": "118aa994-b1d0-44c3-e9f2-54e40c688e0e"
      },
      "outputs": [
        {
          "data": {
            "image/png": "[encoded data removed]",
            "text/plain": [
              "<Figure size 576x576 with 2 Axes>"
            ]
          },
          "metadata": {},
          "output_type": "display_data"
        }
      ],
      "source": [
        "acc = history.history['acc']\n",
        "val_acc = history.history['val_acc']\n",
        "\n",
        "loss = history.history['loss']\n",
        "val_loss = history.history['val_loss']\n",
        "\n",
        "plt.figure(figsize=(8, 8))\n",
        "plt.subplot(2, 1, 1)\n",
        "plt.plot(acc, label='Training Accuracy')\n",
        "plt.plot(val_acc, label='Validation Accuracy')\n",
        "plt.legend(loc='lower right')\n",
        "plt.ylabel('Accuracy')\n",
        "plt.ylim([min(plt.ylim()),1])\n",
        "plt.title('Training and Validation Accuracy')\n",
        "#plt.save('/content/drive/MyDrive/vgg16_veg_acc.png')\n",
        "plt.subplot(2, 1, 2)\n",
        "plt.plot(loss, label='Training Loss')\n",
        "plt.plot(val_loss, label='Validation Loss')\n",
        "plt.legend(loc='upper right')\n",
        "plt.ylabel('Cross Entropy')\n",
        "plt.ylim([0,1.0])\n",
        "plt.title('Training and Validation Loss')\n",
        "plt.xlabel('epoch')\n",
        "plt.savefig('/content/drive/MyDrive/Result_Sound_Numeral/DenseNet121_sound_acc_loss.png')\n",
        "plt.show()"
      ]
    },
    {
      "cell_type": "markdown",
      "metadata": {
        "id": "cI4uc2ObN-lp"
      },
      "source": [
        "Make Base Model Trainable"
      ]
    },
    {
      "cell_type": "code",
      "execution_count": null,
      "metadata": {
        "id": "6xsRuDA-N-sG"
      },
      "outputs": [],
      "source": [
        "base_model.trainable = True"
      ]
    },
    {
      "cell_type": "code",
      "execution_count": null,
      "metadata": {
        "id": "YML1pxTftGmk"
      },
      "outputs": [],
      "source": [
        "# Let's take a look to see how many layers are in the base model\n",
        "print(\"Number of layers in the base model: \", len(base_model.layers))"
      ]
    },
    {
      "cell_type": "markdown",
      "metadata": {
        "id": "ZgOxYujJOBC_"
      },
      "source": [
        "Train the Base Model from a Specific Layer"
      ]
    },
    {
      "cell_type": "code",
      "execution_count": null,
      "metadata": {
        "id": "TsqBuCKbOBJW"
      },
      "outputs": [],
      "source": [
        "# Fine-tune from this layer onwards\n",
        "fine_tune_at = 385\n",
        "\n",
        "# Freeze all the layers before the `fine_tune_at` layer\n",
        "for layer in base_model.layers[:fine_tune_at]:\n",
        "  layer.trainable = False"
      ]
    },
    {
      "cell_type": "markdown",
      "metadata": {
        "id": "S01xlz2KOD7l"
      },
      "source": [
        "Recompile the Model"
      ]
    },
    {
      "cell_type": "code",
      "execution_count": null,
      "metadata": {
        "id": "yrSxIsDcOEDH"
      },
      "outputs": [],
      "source": [
        "model.compile(loss=tf.keras.losses.sparse_categorical_crossentropy,\n",
        "              optimizer = tf.keras.optimizers.Adam(learning_rate=base_learning_rate/10),\n",
        "              metrics=['acc'])"
      ]
    },
    {
      "cell_type": "markdown",
      "metadata": {
        "id": "sYKQTFDOOF8V"
      },
      "source": [
        "Fine Tune the Model and Running the Model"
      ]
    },
    {
      "cell_type": "code",
      "execution_count": null,
      "metadata": {
        "id": "E4b3crizOGDN"
      },
      "outputs": [],
      "source": [
        "fine_tune_epochs = 40\n",
        "total_epochs =  initial_epochs + fine_tune_epochs\n",
        "\n",
        "history_fine = model.fit(train_dataset,\n",
        "                         epochs=total_epochs,\n",
        "                         initial_epoch=history.epoch[-1],\n",
        "                         validation_data=validation_dataset)"
      ]
    },
    {
      "cell_type": "markdown",
      "metadata": {
        "id": "XgEdJXliOSFr"
      },
      "source": [
        "Evaluate the Model"
      ]
    },
    {
      "cell_type": "code",
      "execution_count": null,
      "metadata": {
        "id": "Nt6oF5oTOSNa"
      },
      "outputs": [],
      "source": [
        "model.evaluate(test_dataset)"
      ]
    },
    {
      "cell_type": "markdown",
      "metadata": {
        "id": "nxMp3EtmOStJ"
      },
      "source": [
        "Save the Fine Tuned Model"
      ]
    },
    {
      "cell_type": "code",
      "execution_count": null,
      "metadata": {
        "id": "Tkq0yYGKOS0d"
      },
      "outputs": [],
      "source": [
        "model.save('/content/drive/MyDrive/vegIdentification_result/model_DenseNet121_fineTune_veg385.hdf5')"
      ]
    },
    {
      "cell_type": "markdown",
      "metadata": {
        "id": "MoQRY3-XOZJ3"
      },
      "source": [
        "Reload the Fine Tuned Model"
      ]
    },
    {
      "cell_type": "code",
      "execution_count": null,
      "metadata": {
        "id": "AlJh7pKMOZQ2"
      },
      "outputs": [],
      "source": [
        "from tensorflow import keras\n",
        "modelfinetune_load = keras.models.load_model('/content/drive/MyDrive/vegIdentification_result/model_DenseNet121_fineTune_veg385.hdf5')"
      ]
    },
    {
      "cell_type": "markdown",
      "metadata": {
        "id": "ZqU3wK9MOZyU"
      },
      "source": [
        "Evaluate the Model"
      ]
    },
    {
      "cell_type": "code",
      "execution_count": null,
      "metadata": {
        "id": "a7JnoO0IOZ4V"
      },
      "outputs": [],
      "source": [
        "modelfinetune_load.evaluate(test_dataset)"
      ]
    },
    {
      "cell_type": "code",
      "execution_count": null,
      "metadata": {
        "id": "kIaZGpyWcYrG"
      },
      "outputs": [],
      "source": [
        "acc=acc[:100]"
      ]
    },
    {
      "cell_type": "code",
      "execution_count": null,
      "metadata": {
        "id": "koxfXzsecma2"
      },
      "outputs": [],
      "source": [
        "val_acc=val_acc[:100]"
      ]
    },
    {
      "cell_type": "code",
      "execution_count": null,
      "metadata": {
        "id": "bNU889r3cqU_"
      },
      "outputs": [],
      "source": [
        "loss=loss[:100]\n",
        "val_loss=val_loss[:100]"
      ]
    },
    {
      "cell_type": "markdown",
      "metadata": {
        "id": "O3N-VcjUObUg"
      },
      "source": [
        "Accuracy and Loss Graph of Finetuned Model"
      ]
    },
    {
      "cell_type": "code",
      "execution_count": null,
      "metadata": {
        "id": "ZzbwEcGpOba3"
      },
      "outputs": [],
      "source": [
        "acc += history_fine.history['acc']\n",
        "val_acc += history_fine.history['val_acc']\n",
        "\n",
        "loss += history_fine.history['loss']\n",
        "val_loss += history_fine.history['val_loss']"
      ]
    },
    {
      "cell_type": "markdown",
      "metadata": {
        "id": "kBtZ1Jy_Od1W"
      },
      "source": []
    },
    {
      "cell_type": "code",
      "execution_count": null,
      "metadata": {
        "id": "8Fds9DvjOd9U"
      },
      "outputs": [],
      "source": [
        "plt.figure(figsize=(8, 8))\n",
        "plt.subplot(2, 1, 1)\n",
        "plt.plot(acc, label='Training Accuracy')\n",
        "plt.plot(val_acc, label='Validation Accuracy')\n",
        "plt.ylim([0.2, 1])\n",
        "plt.plot([initial_epochs-1,initial_epochs-1],\n",
        "          plt.ylim(), label='Start Fine Tuning')\n",
        "plt.legend(loc='lower right')\n",
        "plt.title('Training and Validation Accuracy')\n",
        "\n",
        "plt.subplot(2, 1, 2)\n",
        "plt.plot(loss, label='Training Loss')\n",
        "plt.plot(val_loss, label='Validation Loss')\n",
        "plt.ylim([0, 1.0])\n",
        "plt.plot([initial_epochs-1,initial_epochs-1],\n",
        "         plt.ylim(), label='Start Fine Tuning')\n",
        "plt.legend(loc='upper right')\n",
        "plt.title('Training and Validation Loss')\n",
        "plt.xlabel('epoch')\n",
        "plt.savefig('/content/drive/MyDrive/vegIdentification_result/DenseNet121finetune_veg_acc_loss_385.png')\n",
        "plt.show()"
      ]
    }
  ],
  "metadata": {
    "accelerator": "GPU",
    "colab": {
      "provenance": [],
      "include_colab_link": true
    },
    "kernelspec": {
      "display_name": "Python 3",
      "name": "python3"
    },
    "language_info": {
      "name": "python"
    }
  },
  "nbformat": 4,
  "nbformat_minor": 0
}